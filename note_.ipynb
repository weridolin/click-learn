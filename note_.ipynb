{
 "cells": [
  {
   "cell_type": "markdown",
   "metadata": {
    "collapsed": true,
    "pycharm": {
     "name": "#%% md\n"
    }
   },
   "source": [
    "###  命令和命令集合\n",
    "\n",
    "- 将函数变成命令 ==> use @click.command()\n",
    "- 创建命令集  ==> use @click.group()\n",
    "- 往指令集里面增加指令 ==> cli.add_command()\n",
    "- 将文件改成命令行调用 :\n",
    "\n",
    "  ``if __name__ == '__main__': cli() [根据你的指令集,即@click.group()装饰的函数名]``\n",
    "\n",
    "## 命令增加参数\n",
    "\n",
    "- @click.options()\n",
    "\n",
    "- @click.argument()\n"
   ]
  },
  {
   "cell_type": "code",
   "execution_count": 48,
   "outputs": [
    {
     "name": "stdout",
     "output_type": "stream",
     "text": [
      "b'Usage: _func2commands.py [OPTIONS] COMMAND [ARGS]...'\n",
      "b''\n",
      "b'Options:'\n",
      "b'  --help  Show this message and exit.'\n",
      "b''\n",
      "b'Commands:'\n",
      "b'  command-one'\n",
      "b'  command-three'\n",
      "b'  command-two'\n"
     ]
    },
    {
     "data": {
      "text/plain": "0"
     },
     "execution_count": 48,
     "metadata": {},
     "output_type": "execute_result"
    }
   ],
   "source": [
    "import os,sys,subprocess\n",
    "pypath = os.path.abspath(os.path.join(sys.argv[0], \"../../../../\"))\n",
    "p = subprocess.Popen(f'python {pypath}/_func2commands.py', stdout=subprocess.PIPE, bufsize=1)\n",
    "for line in iter(p.stdout.readline, b''):\n",
    "    print(str(line).replace('\\\\r\\\\n',''))\n",
    "p.stdout.close()\n",
    "p.wait()"
   ],
   "metadata": {
    "collapsed": false,
    "pycharm": {
     "name": "#%%\n"
    }
   }
  },
  {
   "cell_type": "markdown",
   "source": [
    "### 用setup.py 打包文件\n",
    "\n",
    "- 打包命令:\n",
    "\n",
    "`` pip install --editable [path] ``\n",
    "- 打包后会在env/scripts生成可执行脚本，类似pip\n",
    "\n",
    "- setup.py 例子：\n",
    "\n",
    "````python\n",
    "setup(\n",
    "    name='LinLin', # 这个是命令集的名称\n",
    "    version='0.1',\n",
    "    py_modules=['_func2commands'], # 这个是对应的PY模块，记得不能加.py\n",
    "    install_requires=[\n",
    "        'Click',\n",
    "    ],\n",
    "\n",
    "    ## 主要是这里 ,这里是命令集的入口\n",
    "    entry_points='''\n",
    "        [console_scripts]\n",
    "       #[命令集名称]    [模块名称]      [模块里面的指令集]\n",
    "        LinLin  =  _func2commands :   cli\n",
    "    ''',\n",
    ")\n",
    "````"
   ],
   "metadata": {
    "collapsed": false
   }
  },
  {
   "cell_type": "code",
   "execution_count": null,
   "outputs": [],
   "source": [
    "import os,sys,subprocess\n",
    "pypath = os.path.abspath(os.path.join(sys.argv[0], \"../../../../\"))\n",
    "p = subprocess.Popen(f'python {pypath}/_func2commands.py', stdout=subprocess.PIPE, bufsize=1)\n",
    "for line in iter(p.stdout.readline, b''):\n",
    "    print(str(line).replace('\\\\r\\\\n',''))\n",
    "p.stdout.close()\n",
    "p.wait()"
   ],
   "metadata": {
    "collapsed": false,
    "pycharm": {
     "name": "#%%\n"
    }
   }
  }
 ],
 "metadata": {
  "kernelspec": {
   "display_name": "Python 3",
   "language": "python",
   "name": "python3"
  },
  "language_info": {
   "codemirror_mode": {
    "name": "ipython",
    "version": 2
   },
   "file_extension": ".py",
   "mimetype": "text/x-python",
   "name": "python",
   "nbconvert_exporter": "python",
   "pygments_lexer": "ipython2",
   "version": "2.7.6"
  }
 },
 "nbformat": 4,
 "nbformat_minor": 0
}